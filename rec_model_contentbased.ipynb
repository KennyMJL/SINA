{
 "cells": [
  {
   "cell_type": "code",
   "execution_count": 19,
   "metadata": {},
   "outputs": [],
   "source": [
    "import sys\n",
    "import os\n",
    "import math\n",
    "import pandas as pd\n",
    "import numpy as np\n",
    "import json\n",
    "from math import sqrt\n",
    "from collections import defaultdict\n",
    "\n",
    "#import recmetrics\n",
    "\n",
    "# Python visualisation library\n",
    "import matplotlib\n",
    "import matplotlib.pyplot as plt\n",
    "from matplotlib.colors import LinearSegmentedColormap\n",
    "\n",
    "# Another much simpler viz library\n",
    "import seaborn as sns\n",
    "\n",
    "# Modelling Libaries\n",
    "from sklearn.metrics.pairwise import pairwise_distances\n",
    "from sklearn.metrics import mean_squared_error\n",
    "import sklearn.metrics\n",
    "from surprise import Reader, Dataset, SVD, evaluate\n",
    "from collections import defaultdict\n",
    "from surprise.model_selection import KFold, train_test_split\n",
    "\n",
    "# Adding root of git repo to path so we can import pyfireanalytics\n",
    "sys.path.append('..')\n",
    "\n",
    "# Display formatting options\n",
    "pd.set_option('display.max_columns', 1000)"
   ]
  },
  {
   "cell_type": "code",
   "execution_count": 20,
   "metadata": {},
   "outputs": [],
   "source": [
    "data = pd.read_csv('~/desktop/movielens/UDATA.csv', encoding=\"latin-1\")\n",
    "item = pd.read_csv('~/desktop/movielens/UITEM.csv', encoding=\"latin-1\")\n",
    "genre = pd.read_csv('~/desktop/movielens/UGENRE.csv', encoding=\"latin-1\")\n",
    "user = pd.read_csv('~/desktop/movielens/UUSER.csv', encoding=\"latin-1\")\n",
    "test = pd.read_csv('~/desktop/movielens/U1TEST.csv', encoding=\"latin-1\")\n",
    "train = pd.read_csv('~/desktop/movielens/U1BASE.csv', encoding=\"latin-1\")"
   ]
  },
  {
   "cell_type": "code",
   "execution_count": 21,
   "metadata": {},
   "outputs": [],
   "source": [
    "# rename itemid to movieid to join data and item together\n",
    "data.rename(columns={'itemid':'movieid'}, inplace=True)\n",
    "test.rename(columns={'itemid':'movieid'}, inplace=True)\n",
    "train.rename(columns={'itemid':'movieid'}, inplace=True)\n",
    "#join\n",
    "df = pd.merge(data, item, on='movieid', how='outer')\n",
    "df = pd.merge(df, user, on='userid', how='outer')\n",
    "\n",
    "user2 = pd.merge(user, data, on='userid', how='inner')\n",
    "user2 = user2.drop('timestamp', 1)\n",
    "user2 = user2.drop_duplicates()\n",
    "#change unix timestamp to readable date\n",
    "df['reviewtimestamp'] = pd.to_datetime(df['timestamp'],unit='s')\n",
    "\n",
    "#Split reviewtimestamp into year month day\n",
    "df['reviewyear'] = df['reviewtimestamp'].dt.year\n",
    "df['reviewmonth'] = df['reviewtimestamp'].dt.month\n",
    "df['reviewday'] = df['reviewtimestamp'].dt.day"
   ]
  },
  {
   "cell_type": "markdown",
   "metadata": {},
   "source": [
    "# Model"
   ]
  },
  {
   "cell_type": "code",
   "execution_count": 28,
   "metadata": {},
   "outputs": [],
   "source": [
    "from sklearn.feature_extraction.text import TfidfVectorizer\n",
    "tf = TfidfVectorizer(analyzer='word', ngram_range=(1,2), min_df=1, stop_words='english')\n",
    "tfidf_matrix = tf.fit_transform(item['movie title'])"
   ]
  },
  {
   "cell_type": "code",
   "execution_count": 29,
   "metadata": {},
   "outputs": [],
   "source": [
    "from sklearn.metrics.pairwise import linear_kernel\n",
    "cosine_sim = linear_kernel(tfidf_matrix, tfidf_matrix)"
   ]
  },
  {
   "cell_type": "code",
   "execution_count": 33,
   "metadata": {},
   "outputs": [],
   "source": [
    "titles = item['movie title']\n",
    "indices = pd.Series(item.index, index=item['movie title'])\n",
    "\n",
    "def recommendations(title):\n",
    "    idx = indices[title]\n",
    "    sim_scores = list(enumerate(cosine_sim[idx]))\n",
    "    sim_scores = sorted(sim_scores, key=lambda x: x[1], reverse=True)\n",
    "    sim_scores = sim_scores[1:21]\n",
    "    movie_indices = [i[0] for i in sim_scores]\n",
    "    return titles.iloc[movie_indices]\n"
   ]
  },
  {
   "cell_type": "code",
   "execution_count": 35,
   "metadata": {},
   "outputs": [
    {
     "data": {
      "text/plain": [
       "1071                    Pyromaniac's Love Story, A (1995)\n",
       "1052                                  Now and Then (1995)\n",
       "1546                                     Show, The (1995)\n",
       "1589                               To Have, or Not (1995)\n",
       "1343                         Story of Xinghua, The (1993)\n",
       "477                        Philadelphia Story, The (1940)\n",
       "547                     NeverEnding Story III, The (1994)\n",
       "307                        FairyTale: A True Story (1997)\n",
       "1652    Entertaining Angels: The Dorothy Day Story (1996)\n",
       "598     Police Story 4: Project S (Chao ji ji hua) (1993)\n",
       "722                               Boys on the Side (1995)\n",
       "1146                                     My Family (1995)\n",
       "938                            Murder in the First (1995)\n",
       "555                                      Wild Bill (1995)\n",
       "1519                                     Fear, The (1995)\n",
       "714                                     To Die For (1995)\n",
       "1598                        Someone Else's America (1995)\n",
       "1626                                     Wife, The (1995)\n",
       "719                                   First Knight (1995)\n",
       "1085                                 It's My Party (1995)\n",
       "Name: movie title, dtype: object"
      ]
     },
     "execution_count": 35,
     "metadata": {},
     "output_type": "execute_result"
    }
   ],
   "source": [
    "recommendations('Toy Story (1995)')"
   ]
  },
  {
   "cell_type": "code",
   "execution_count": 36,
   "metadata": {},
   "outputs": [
    {
     "data": {
      "text/plain": [
       "1059                  Adventures of Pinocchio, The (1996)\n",
       "431                                       Fantasia (1940)\n",
       "606                                        Rebecca (1940)\n",
       "477                        Philadelphia Story, The (1940)\n",
       "493                                His Girl Friday (1940)\n",
       "523                            Great Dictator, The (1940)\n",
       "1450                         Foreign Correspondent (1940)\n",
       "1115                            Mark of Zorro, The (1940)\n",
       "0                                        Toy Story (1995)\n",
       "1                                        GoldenEye (1995)\n",
       "2                                       Four Rooms (1995)\n",
       "3                                       Get Shorty (1995)\n",
       "4                                          Copycat (1995)\n",
       "5       Shanghai Triad (Yao a yao yao dao waipo qiao) ...\n",
       "6                                   Twelve Monkeys (1995)\n",
       "7                                             Babe (1995)\n",
       "8                                 Dead Man Walking (1995)\n",
       "9                                      Richard III (1995)\n",
       "10                                   Seven (Se7en) (1995)\n",
       "11                             Usual Suspects, The (1995)\n",
       "Name: movie title, dtype: object"
      ]
     },
     "execution_count": 36,
     "metadata": {},
     "output_type": "execute_result"
    }
   ],
   "source": [
    "recommendations('Pinocchio (1940)')"
   ]
  },
  {
   "cell_type": "code",
   "execution_count": 39,
   "metadata": {},
   "outputs": [],
   "source": [
    "from surprise import Reader, Dataset, SVD, evaluate\n",
    "\n",
    "reader = Reader()\n",
    "\n",
    "data2 = Dataset.load_from_df(data[['userid', 'movieid', 'rating']], reader)\n",
    "\n",
    "data2.split(n_folds=5)"
   ]
  },
  {
   "cell_type": "code",
   "execution_count": 41,
   "metadata": {},
   "outputs": [
    {
     "name": "stderr",
     "output_type": "stream",
     "text": [
      "/Users/kennyliang/anaconda3/lib/python3.6/site-packages/surprise/evaluate.py:66: UserWarning: The evaluate() method is deprecated. Please use model_selection.cross_validate() instead.\n",
      "  'model_selection.cross_validate() instead.', UserWarning)\n",
      "/Users/kennyliang/anaconda3/lib/python3.6/site-packages/surprise/dataset.py:193: UserWarning: Using data.split() or using load_from_folds() without using a CV iterator is now deprecated. \n",
      "  UserWarning)\n"
     ]
    },
    {
     "name": "stdout",
     "output_type": "stream",
     "text": [
      "Evaluating RMSE of algorithm SVD.\n",
      "\n",
      "------------\n",
      "Fold 1\n",
      "RMSE: 0.9399\n",
      "------------\n",
      "Fold 2\n",
      "RMSE: 0.9360\n",
      "------------\n",
      "Fold 3\n",
      "RMSE: 0.9354\n",
      "------------\n",
      "Fold 4\n",
      "RMSE: 0.9358\n",
      "------------\n",
      "Fold 5\n",
      "RMSE: 0.9367\n",
      "------------\n",
      "------------\n",
      "Mean RMSE: 0.9368\n",
      "------------\n",
      "------------\n"
     ]
    },
    {
     "data": {
      "text/plain": [
       "CaseInsensitiveDefaultDict(list,\n",
       "                           {'rmse': [0.9399084715086851,\n",
       "                             0.9360368684309209,\n",
       "                             0.9354337442130246,\n",
       "                             0.9358142966432226,\n",
       "                             0.9366995843160315]})"
      ]
     },
     "execution_count": 41,
     "metadata": {},
     "output_type": "execute_result"
    }
   ],
   "source": [
    "svd = SVD()\n",
    "\n",
    "evaluate(svd, data2, measures=['RMSE'])"
   ]
  },
  {
   "cell_type": "code",
   "execution_count": null,
   "metadata": {},
   "outputs": [],
   "source": []
  },
  {
   "cell_type": "code",
   "execution_count": null,
   "metadata": {},
   "outputs": [],
   "source": []
  }
 ],
 "metadata": {
  "kernelspec": {
   "display_name": "Python 3",
   "language": "python",
   "name": "python3"
  },
  "language_info": {
   "codemirror_mode": {
    "name": "ipython",
    "version": 3
   },
   "file_extension": ".py",
   "mimetype": "text/x-python",
   "name": "python",
   "nbconvert_exporter": "python",
   "pygments_lexer": "ipython3",
   "version": "3.6.8"
  }
 },
 "nbformat": 4,
 "nbformat_minor": 2
}
