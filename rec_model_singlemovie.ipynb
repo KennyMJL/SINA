{
 "cells": [
  {
   "cell_type": "code",
   "execution_count": 151,
   "metadata": {},
   "outputs": [],
   "source": [
    "import sys\n",
    "import os\n",
    "import math\n",
    "import pandas as pd\n",
    "import numpy as np\n",
    "import json\n",
    "\n",
    "# Python visualisation library\n",
    "import matplotlib\n",
    "import matplotlib.pyplot as plt\n",
    "from matplotlib.colors import LinearSegmentedColormap\n",
    "\n",
    "# Another much simpler viz library\n",
    "import seaborn as sns\n",
    "\n",
    "# Adding root of git repo to path so we can import pyfireanalytics\n",
    "sys.path.append('..')\n"
   ]
  },
  {
   "cell_type": "markdown",
   "metadata": {},
   "source": [
    "# Load Data"
   ]
  },
  {
   "cell_type": "code",
   "execution_count": 152,
   "metadata": {},
   "outputs": [],
   "source": [
    "data = pd.read_csv('~/desktop/movielens/UDATA.csv', encoding=\"latin-1\")\n",
    "item = pd.read_csv('~/desktop/movielens/UITEM.csv', encoding=\"latin-1\")\n",
    "genre = pd.read_csv('~/desktop/movielens/UGENRE.csv', encoding=\"latin-1\")\n",
    "user = pd.read_csv('~/desktop/movielens/UUSER.csv', encoding=\"latin-1\")\n",
    "#\"ISO-8859-1\""
   ]
  },
  {
   "cell_type": "markdown",
   "metadata": {},
   "source": [
    "# Data Cleaning"
   ]
  },
  {
   "cell_type": "code",
   "execution_count": 153,
   "metadata": {},
   "outputs": [],
   "source": [
    "# rename itemid to movieid to join data and item together\n",
    "data.rename(columns={'itemid':'movieid'}, inplace=True)\n",
    "\n",
    "#join\n",
    "df = pd.merge(data, item, on='movieid', how='outer')\n",
    "df = pd.merge(df, user, on='userid', how='outer')\n",
    "\n",
    "#change unix timestamp to readable date\n",
    "df['reviewtimestamp'] = pd.to_datetime(df['timestamp'],unit='s')\n",
    "\n",
    "#Split reviewtimestamp into year month day\n",
    "df['reviewyear'] = df['reviewtimestamp'].dt.year\n",
    "df['reviewmonth'] = df['reviewtimestamp'].dt.month\n",
    "df['reviewday'] = df['reviewtimestamp'].dt.day\n"
   ]
  },
  {
   "cell_type": "markdown",
   "metadata": {},
   "source": [
    "# Collaborative Filtering Model"
   ]
  },
  {
   "cell_type": "code",
   "execution_count": 154,
   "metadata": {},
   "outputs": [],
   "source": [
    "#Step 1: Find the top similar users using Centred Cosine Similarity\n",
    "\n",
    "#centred cosine\n",
    "ccs = data.groupby(['userid'], as_index=False, sort=False).mean()\n",
    "ccs = ccs.rename(columns={\"rating\": \"mean_rating\"})\n",
    "data = pd.merge(data, ccs, on='userid', how='left', sort=\"False\")\n",
    "\n",
    "data['rating'] = data['rating'].astype(float)\n",
    "data = data.copy()\n",
    "data['new_rating'] = data[\"rating\"]-data['mean_rating']"
   ]
  },
  {
   "cell_type": "code",
   "execution_count": 155,
   "metadata": {},
   "outputs": [],
   "source": [
    "data2=data.copy()\n",
    "umr = pd.DataFrame({\"user\": data2['userid'], \"movie\":data2['movieid_x'], \"rating\":data2['new_rating']})\n",
    "umr2 = umr.pivot_table(index='user', columns='movie', values='rating').fillna(0)"
   ]
  },
  {
   "cell_type": "code",
   "execution_count": 157,
   "metadata": {},
   "outputs": [],
   "source": [
    "allusers = umr2.values\n",
    "user1 = allusers[0]\n",
    "denominator1 = np.sqrt(sum([np.square(x) for x in user1]))\n",
    "\n",
    "cosinesimilarity = [(1,1)]\n",
    "i=1\n",
    "for user in allusers[1:]:\n",
    "        numerator = [x*y for x,y in zip(user1, user)]\n",
    "        denominator2 = np.sqrt(sum([np.square(x) for x in user]))\n",
    "        costheta = sum(numerator) / (denominator1 * denominator2)\n",
    "        cosinesimilarity.append((umr2.index[i], costheta))\n",
    "        i += 1\n",
    "\n",
    "cosinesimilarity.sort(key=lambda x: x[1], reverse=True)\n",
    "\n",
    "similar10users = cosinesimilarity[0:10]\n",
    "\n",
    "top10users = pd.DataFrame()\n",
    "for user in similar10users:\n",
    "    top10users = top10users.append(umr2.loc[user[0]])\n",
    "top10users['costheta'] = [user[1] for user in similar10users]\n",
    "\n",
    "all_values = top10users.values\n"
   ]
  },
  {
   "cell_type": "code",
   "execution_count": 158,
   "metadata": {},
   "outputs": [],
   "source": [
    "#Step 2: Predict the user ratings on an item based on other users\n",
    "\n",
    "denominator = sum([x[1] for x in similar10users])\n",
    "\n",
    "inx = 0\n",
    "values= []\n",
    "for x in top10users.loc[1]:\n",
    "    totalsum=0\n",
    "    if x ==0.0:\n",
    "        for v in range(1,10):\n",
    "            totalsum += all_values[v-1][inx]*all_values[v-1][1682]\n",
    "        top10users.loc[1][inx+1] = totalsum/denominator\n",
    "    inx += 1\n"
   ]
  },
  {
   "cell_type": "code",
   "execution_count": 159,
   "metadata": {},
   "outputs": [
    {
     "data": {
      "text/plain": [
       "[(0, 1.3897058823529411),\n",
       " (5, 1.3897058823529411),\n",
       " (8, 1.3897058823529411),\n",
       " (11, 1.3897058823529411),\n",
       " (12, 1.3897058823529411),\n",
       " (13, 1.3897058823529411),\n",
       " (14, 1.3897058823529411),\n",
       " (15, 1.3897058823529411),\n",
       " (18, 1.3897058823529411),\n",
       " (31, 1.3897058823529411)]"
      ]
     },
     "execution_count": 159,
     "metadata": {},
     "output_type": "execute_result"
    }
   ],
   "source": [
    "#Step 3: Recommend the items which have higher predicted value\n",
    "\n",
    "top10rec = []\n",
    "\n",
    "for inx,x in enumerate(top10users.loc[1].values):\n",
    "    if x > 0.0:\n",
    "        top10rec.append((inx,x))\n",
    "        \n",
    "top10rec.sort(key=lambda x: x[1], reverse=True)\n",
    "\n",
    "top10rec[:10]"
   ]
  },
  {
   "cell_type": "code",
   "execution_count": null,
   "metadata": {},
   "outputs": [],
   "source": []
  },
  {
   "cell_type": "code",
   "execution_count": null,
   "metadata": {},
   "outputs": [],
   "source": []
  },
  {
   "cell_type": "code",
   "execution_count": null,
   "metadata": {},
   "outputs": [],
   "source": []
  }
 ],
 "metadata": {
  "kernelspec": {
   "display_name": "Python 3",
   "language": "python",
   "name": "python3"
  },
  "language_info": {
   "codemirror_mode": {
    "name": "ipython",
    "version": 3
   },
   "file_extension": ".py",
   "mimetype": "text/x-python",
   "name": "python",
   "nbconvert_exporter": "python",
   "pygments_lexer": "ipython3",
   "version": "3.7.1"
  }
 },
 "nbformat": 4,
 "nbformat_minor": 2
}
